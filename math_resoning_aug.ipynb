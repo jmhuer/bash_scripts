{
  "nbformat": 4,
  "nbformat_minor": 0,
  "metadata": {
    "colab": {
      "name": "Untitled22.ipynb",
      "provenance": [],
      "authorship_tag": "ABX9TyM4VDum2eDXnirwU4YK4kCm",
      "include_colab_link": true
    },
    "kernelspec": {
      "name": "python3",
      "display_name": "Python 3"
    },
    "language_info": {
      "name": "python"
    }
  },
  "cells": [
    {
      "cell_type": "markdown",
      "metadata": {
        "id": "view-in-github",
        "colab_type": "text"
      },
      "source": [
        "<a href=\"https://colab.research.google.com/github/jmhuer/bash_scripts/blob/main/math_resoning_aug.ipynb\" target=\"_parent\"><img src=\"https://colab.research.google.com/assets/colab-badge.svg\" alt=\"Open In Colab\"/></a>"
      ]
    },
    {
      "cell_type": "markdown",
      "source": [
        "#RANDOM INT ADDING"
      ],
      "metadata": {
        "id": "47wmxpVkhBDd"
      }
    },
    {
      "cell_type": "code",
      "execution_count": 92,
      "metadata": {
        "colab": {
          "base_uri": "https://localhost:8080/"
        },
        "id": "2Sa3WVDsI6LV",
        "outputId": "eb7884de-c90b-4349-fdc1-95b6b0c297f8"
      },
      "outputs": [
        {
          "output_type": "stream",
          "name": "stdout",
          "text": [
            "first sentence: \n",
            "\n",
            "['Solve 0  + 2 = 2 + 4*b + b + 15 for b.']\n"
          ]
        }
      ],
      "source": [
        "import csv \n",
        "from random import randrange\n",
        "\n",
        "def generate_random_add_dataset(filename,new_filename):\n",
        "    # Read CSV file\n",
        "    with open(filename) as fp:\n",
        "        reader = csv.reader(fp, delimiter=\",\", quotechar='\"')\n",
        "        # next(reader, None)  # skip the headers\n",
        "        data_read = [row for row in reader]\n",
        "    new_data_read = []\n",
        "    for i, d in enumerate(data_read):\n",
        "        if i %2==1:\n",
        "            #solution\n",
        "            pass\n",
        "        else:\n",
        "            #question\n",
        "            indx = d[0].find(\"=\")\n",
        "            indices = [0,indx, indx+1]\n",
        "            parts = [d[0][i:j] for i,j in zip(indices, indices[1:]+[None])]\n",
        "            integer = randrange(10)\n",
        "            parts[0] += \" + \" + str(integer) + \" \"\n",
        "            parts[2] =  \" \" + str(integer) + \" +\" + parts[2]\n",
        "            new_d = [''.join(parts)]\n",
        "            new_data_read.append(new_d)\n",
        "            # print(new_d)\n",
        "            # print(\" \")\n",
        "    # write CSV file\n",
        "    with open(new_filename, \"wt\") as fp:\n",
        "          writer = csv.writer(fp, delimiter=\",\")\n",
        "          for nd in new_data_read:\n",
        "              writer.writerows([nd])\n",
        "\n",
        "    print(\"first sentence: \\n\")\n",
        "    print(new_data_read[0])\n",
        "\n",
        "generate_random_add_dataset(filename=\"algebra__linear_1d.txt\", new_filename=\"add_algebra__linear_1d.txt\")"
      ]
    },
    {
      "cell_type": "markdown",
      "source": [
        "#RANDOM INT SUBTRACTING"
      ],
      "metadata": {
        "id": "qmTgcoKKhKvU"
      }
    },
    {
      "cell_type": "code",
      "source": [
        "import csv \n",
        "from random import randrange\n",
        "\n",
        "def generate_random_sub_dataset(filename, new_filename):\n",
        "    # Read CSV file\n",
        "    with open(filename) as fp:\n",
        "        reader = csv.reader(fp, delimiter=\",\", quotechar='\"')\n",
        "        # next(reader, None)  # skip the headers\n",
        "        data_read = [row for row in reader]\n",
        "    new_data_read = []\n",
        "    for i, d in enumerate(data_read):\n",
        "        if i %2==1:\n",
        "            #solution\n",
        "            pass\n",
        "        else:\n",
        "            #question\n",
        "            indx = d[0].find(\"=\")\n",
        "            indices = [0,indx, indx+1]\n",
        "            parts = [d[0][i:j] for i,j in zip(indices, indices[1:]+[None])]\n",
        "            integer = randrange(10)\n",
        "            parts[0] += \" - \" + str(integer) + \" \"\n",
        "            parts[2] =  \" \" + str(integer) + \" -\" + parts[2]\n",
        "            new_d = [''.join(parts)]\n",
        "            new_data_read.append(new_d)\n",
        "            # print(new_d)\n",
        "            # print(\" \")\n",
        "    # write CSV file\n",
        "    with open(new_filename, \"wt\") as fp:\n",
        "          writer = csv.writer(fp, delimiter=\",\")\n",
        "          for nd in new_data_read:\n",
        "              writer.writerows([nd])\n",
        "\n",
        "    print(\"first sentence: \\n\")\n",
        "    print(new_data_read[0])\n",
        "\n",
        "generate_random_sub_dataset(filename=\"algebra__linear_1d.txt\", new_filename=\"subtract_algebra__linear_1d.txt\")"
      ],
      "metadata": {
        "colab": {
          "base_uri": "https://localhost:8080/"
        },
        "id": "lg-ehFl-g_ds",
        "outputId": "31113f8e-6a17-4893-aeb1-8aa7da06dadf"
      },
      "execution_count": 93,
      "outputs": [
        {
          "output_type": "stream",
          "name": "stdout",
          "text": [
            "first sentence: \n",
            "\n",
            "['Solve 0  - 7 = 7 - 4*b + b + 15 for b.']\n"
          ]
        }
      ]
    },
    {
      "cell_type": "markdown",
      "source": [
        "#RANDOM MULTIPLY SUBTRACTING"
      ],
      "metadata": {
        "id": "F68Kj8zShtoI"
      }
    },
    {
      "cell_type": "code",
      "source": [
        "import csv \n",
        "from random import randrange\n",
        "\n",
        "def generate_random_add_dataset(filename, new_filename):\n",
        "    # Read CSV file\n",
        "    with open(filename) as fp:\n",
        "        reader = csv.reader(fp, delimiter=\",\", quotechar='\"')\n",
        "        # next(reader, None)  # skip the headers\n",
        "        data_read = [row for row in reader]\n",
        "    new_data_read = []\n",
        "    for i, d in enumerate(data_read):\n",
        "        if i %2==1:\n",
        "            #solution\n",
        "            pass\n",
        "        else:\n",
        "            #question\n",
        "            indx = d[0].find(\"=\")\n",
        "            indx2 = d[0].find(\"for\")\n",
        "            indx3 = d[0].find(\"ve \") + 3\n",
        "            indices = [0,indx3,indx, indx+2,indx2]\n",
        "            parts = [d[0][i:j] for i,j in zip(indices, indices[1:]+[None])]\n",
        "            integer = randrange(10)\n",
        "            parts[1] = str(integer) + \"*(\" + parts[1][0:-1] + \") \"\n",
        "            parts[3] =  str(integer) + \"*(\" + parts[3][0:-1] + \") \" \n",
        "            new_d = [''.join(parts)]\n",
        "            new_data_read.append(new_d)\n",
        "            # print(new_d)\n",
        "            # print(\" \")\n",
        "    # write CSV file\n",
        "    with open(new_filename, \"wt\") as fp:\n",
        "          writer = csv.writer(fp, delimiter=\",\")\n",
        "          for nd in new_data_read:\n",
        "              writer.writerows([nd])\n",
        "\n",
        "    print(\"first sentence: \\n\")\n",
        "    print(new_data_read[0])\n",
        "\n",
        "generate_random_add_dataset(filename=\"algebra__linear_1d.txt\", new_filename=\"multiply_algebra__linear_1d.txt\")"
      ],
      "metadata": {
        "colab": {
          "base_uri": "https://localhost:8080/"
        },
        "id": "RnWfZukKhsvp",
        "outputId": "319df047-a07a-4286-a5e6-9048d47b1d02"
      },
      "execution_count": 94,
      "outputs": [
        {
          "output_type": "stream",
          "name": "stdout",
          "text": [
            "first sentence: \n",
            "\n",
            "['Solve 6*(0) = 6*(4*b + b + 15) for b.']\n"
          ]
        }
      ]
    },
    {
      "cell_type": "markdown",
      "source": [
        "#RANDOM DIVIDE SUBTRACTING"
      ],
      "metadata": {
        "id": "6vnavdKiivea"
      }
    },
    {
      "cell_type": "code",
      "source": [
        "import csv \n",
        "from random import randrange\n",
        "\n",
        "def generate_random_div_dataset(filename, new_filename):\n",
        "    # Read CSV file\n",
        "    with open(filename) as fp:\n",
        "        reader = csv.reader(fp, delimiter=\",\", quotechar='\"')\n",
        "        # next(reader, None)  # skip the headers\n",
        "        data_read = [row for row in reader]\n",
        "    new_data_read = []\n",
        "    for i, d in enumerate(data_read):\n",
        "        if i %2==1:\n",
        "            #solution\n",
        "            pass\n",
        "        else:\n",
        "            #question\n",
        "            indx = d[0].find(\"=\")\n",
        "            indx2 = d[0].find(\"for\")\n",
        "            indx3 = d[0].find(\"ve \") + 3\n",
        "            indices = [0,indx3,indx, indx+2,indx2] \n",
        "            parts = [d[0][i:j] for i,j in zip(indices, indices[1:]+[None])]\n",
        "            integer = randrange(10)\n",
        "            parts[1] = \"(\" + parts[1][0:-1] + \")/\" + str(integer) + \" \"\n",
        "            parts[3] =  \"(\" + parts[3][0:-1] + \")/\" + str(integer)+ \" \"  \n",
        "            new_d = [''.join(parts)]\n",
        "            new_data_read.append(new_d)\n",
        "            # print(new_d)\n",
        "            # print(\" \")\n",
        "    # write CSV file\n",
        "    with open(new_filename, \"wt\") as fp:\n",
        "          writer = csv.writer(fp, delimiter=\",\")\n",
        "          for nd in new_data_read:\n",
        "              writer.writerows([nd])\n",
        "\n",
        "    print(\"first sentence: \\n\")\n",
        "    print(new_data_read[0])\n",
        "\n",
        "generate_random_div_dataset(filename=\"algebra__linear_1d.txt\", new_filename=\"div_algebra__linear_1d.txt\")"
      ],
      "metadata": {
        "colab": {
          "base_uri": "https://localhost:8080/"
        },
        "id": "f0QOPL-8iuhw",
        "outputId": "013841c1-9d5c-4a98-e6dd-f1a65b6d2d69"
      },
      "execution_count": 91,
      "outputs": [
        {
          "output_type": "stream",
          "name": "stdout",
          "text": [
            "first sentence: \n",
            "\n",
            "['Solve (0)/8 = (4*b + b + 15)/8 for b.']\n"
          ]
        }
      ]
    }
  ]
}