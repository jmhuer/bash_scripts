{
  "nbformat": 4,
  "nbformat_minor": 0,
  "metadata": {
    "colab": {
      "name": "Untitled22.ipynb",
      "provenance": [],
      "authorship_tag": "ABX9TyMC9q5Z51YV8RSabYoLMGDY",
      "include_colab_link": true
    },
    "kernelspec": {
      "name": "python3",
      "display_name": "Python 3"
    },
    "language_info": {
      "name": "python"
    }
  },
  "cells": [
    {
      "cell_type": "markdown",
      "metadata": {
        "id": "view-in-github",
        "colab_type": "text"
      },
      "source": [
        "<a href=\"https://colab.research.google.com/github/jmhuer/bash_scripts/blob/main/math_resoning_aug.ipynb\" target=\"_parent\"><img src=\"https://colab.research.google.com/assets/colab-badge.svg\" alt=\"Open In Colab\"/></a>"
      ]
    },
    {
      "cell_type": "markdown",
      "source": [
        "#RANDOM INT ADDING"
      ],
      "metadata": {
        "id": "47wmxpVkhBDd"
      }
    },
    {
      "cell_type": "code",
      "execution_count": 67,
      "metadata": {
        "id": "2Sa3WVDsI6LV"
      },
      "outputs": [],
      "source": [
        "import csv \n",
        "from random import randrange\n",
        "\n",
        "def generate_random_add_dataset(filename,new_filename):\n",
        "    # Read CSV file\n",
        "    with open(filename) as fp:\n",
        "        reader = csv.reader(fp, delimiter=\",\", quotechar='\"')\n",
        "        # next(reader, None)  # skip the headers\n",
        "        data_read = [row for row in reader]\n",
        "    new_data_read = []\n",
        "    for i, d in enumerate(data_read):\n",
        "        if i %2==1:\n",
        "            #solution\n",
        "            pass\n",
        "        else:\n",
        "            #question\n",
        "            indx = d[0].find(\"=\")\n",
        "            indices = [0,indx, indx+1]\n",
        "            parts = [d[0][i:j] for i,j in zip(indices, indices[1:]+[None])]\n",
        "            integer = randrange(10)\n",
        "            parts[0] += \" + \" + str(integer) + \" \"\n",
        "            parts[2] =  \" \" + str(integer) + \" +\" + parts[2]\n",
        "            new_d = [''.join(parts)]\n",
        "            new_data_read.append(new_d)\n",
        "            # print(new_d)\n",
        "            # print(\" \")\n",
        "    # write CSV file\n",
        "    with open(new_filename, \"wt\") as fp:\n",
        "          writer = csv.writer(fp, delimiter=\",\")\n",
        "          for nd in new_data_read:\n",
        "              writer.writerows([nd])\n",
        "\n",
        "generate_random_add_dataset(filename=\"algebra__linear_1d.txt\", new_filename=\"add_algebra__linear_1d.txt\")"
      ]
    },
    {
      "cell_type": "markdown",
      "source": [
        "#RANDOM INT SUBTRACTING"
      ],
      "metadata": {
        "id": "qmTgcoKKhKvU"
      }
    },
    {
      "cell_type": "code",
      "source": [
        "import csv \n",
        "from random import randrange\n",
        "\n",
        "def generate_random_sub_dataset(filename, new_filename):\n",
        "    # Read CSV file\n",
        "    with open(filename) as fp:\n",
        "        reader = csv.reader(fp, delimiter=\",\", quotechar='\"')\n",
        "        # next(reader, None)  # skip the headers\n",
        "        data_read = [row for row in reader]\n",
        "    new_data_read = []\n",
        "    for i, d in enumerate(data_read):\n",
        "        if i %2==1:\n",
        "            #solution\n",
        "            pass\n",
        "        else:\n",
        "            #question\n",
        "            indx = d[0].find(\"=\")\n",
        "            indices = [0,indx, indx+1]\n",
        "            parts = [d[0][i:j] for i,j in zip(indices, indices[1:]+[None])]\n",
        "            integer = randrange(10)\n",
        "            parts[0] += \" - \" + str(integer) + \" \"\n",
        "            parts[2] =  \" \" + str(integer) + \" -\" + parts[2]\n",
        "            new_d = [''.join(parts)]\n",
        "            new_data_read.append(new_d)\n",
        "            # print(new_d)\n",
        "            # print(\" \")\n",
        "    # write CSV file\n",
        "    with open(new_filename, \"wt\") as fp:\n",
        "          writer = csv.writer(fp, delimiter=\",\")\n",
        "          for nd in new_data_read:\n",
        "              writer.writerows([nd])\n",
        "\n",
        "generate_random_sub_dataset(filename=\"algebra__linear_1d.txt\", new_filename=\"subtract_algebra__linear_1d.txt\")"
      ],
      "metadata": {
        "id": "lg-ehFl-g_ds"
      },
      "execution_count": 68,
      "outputs": []
    },
    {
      "cell_type": "markdown",
      "source": [
        "#RANDOM MULTIPLY SUBTRACTING"
      ],
      "metadata": {
        "id": "F68Kj8zShtoI"
      }
    },
    {
      "cell_type": "code",
      "source": [
        "import csv \n",
        "from random import randrange\n",
        "\n",
        "def generate_random_add_dataset(filename, new_filename):\n",
        "    # Read CSV file\n",
        "    with open(filename) as fp:\n",
        "        reader = csv.reader(fp, delimiter=\",\", quotechar='\"')\n",
        "        # next(reader, None)  # skip the headers\n",
        "        data_read = [row for row in reader]\n",
        "    new_data_read = []\n",
        "    for i, d in enumerate(data_read):\n",
        "        if i %2==1:\n",
        "            #solution\n",
        "            pass\n",
        "        else:\n",
        "            #question\n",
        "            indx = d[0].find(\"=\")\n",
        "            indx2 = d[0].find(\"for\")\n",
        "            indx3 = d[0].find(\"ve \") + 3\n",
        "            indices = [0,indx3,indx, indx+2,indx2]\n",
        "            parts = [d[0][i:j] for i,j in zip(indices, indices[1:]+[None])]\n",
        "            integer = randrange(10)\n",
        "            parts[1] = str(integer) + \"*(\" + parts[1][0:-1] + \") \"\n",
        "            parts[3] =  str(integer) + \"*(\" + parts[3][0:-1] + \") \" \n",
        "            new_d = [''.join(parts)]\n",
        "            new_data_read.append(new_d)\n",
        "            # print(new_d)\n",
        "            # print(\" \")\n",
        "    # write CSV file\n",
        "    with open(new_filename, \"wt\") as fp:\n",
        "          writer = csv.writer(fp, delimiter=\",\")\n",
        "          for nd in new_data_read:\n",
        "              writer.writerows([nd])\n",
        "\n",
        "generate_random_add_dataset(filename=\"algebra__linear_1d.txt\", new_filename=\"multiply_algebra__linear_1d.txt\")"
      ],
      "metadata": {
        "id": "RnWfZukKhsvp"
      },
      "execution_count": 69,
      "outputs": []
    },
    {
      "cell_type": "markdown",
      "source": [
        "#RANDOM DIVIDE SUBTRACTING"
      ],
      "metadata": {
        "id": "6vnavdKiivea"
      }
    },
    {
      "cell_type": "code",
      "source": [
        "import csv \n",
        "from random import randrange\n",
        "\n",
        "def generate_random_div_dataset(filename, new_filename):\n",
        "    # Read CSV file\n",
        "    with open(filename) as fp:\n",
        "        reader = csv.reader(fp, delimiter=\",\", quotechar='\"')\n",
        "        # next(reader, None)  # skip the headers\n",
        "        data_read = [row for row in reader]\n",
        "    new_data_read = []\n",
        "    for i, d in enumerate(data_read):\n",
        "        if i %2==1:\n",
        "            #solution\n",
        "            pass\n",
        "        else:\n",
        "            #question\n",
        "            indx = d[0].find(\"=\")\n",
        "            indx2 = d[0].find(\"for\")\n",
        "            indx3 = d[0].find(\"ve \") + 3\n",
        "            indices = [0,indx3,indx, indx+2,indx2] \n",
        "            parts = [d[0][i:j] for i,j in zip(indices, indices[1:]+[None])]\n",
        "            integer = randrange(10)\n",
        "            parts[1] = \"(\" + parts[1][0:-1] + \")/\" + str(integer) + \" \"\n",
        "            parts[3] =  \"(\" + parts[3][0:-1] + \")/\" + str(integer)+ \" \"  \n",
        "            new_d = [''.join(parts)]\n",
        "            new_data_read.append(new_d)\n",
        "            # print(new_d)\n",
        "            # print(\" \")\n",
        "    # write CSV file\n",
        "    with open(new_filename, \"wt\") as fp:\n",
        "          writer = csv.writer(fp, delimiter=\",\")\n",
        "          for nd in new_data_read:\n",
        "              writer.writerows([nd])\n",
        "\n",
        "generate_random_div_dataset(filename=\"algebra__linear_1d.txt\", new_filename=\"div_algebra__linear_1d.txt\")"
      ],
      "metadata": {
        "id": "f0QOPL-8iuhw"
      },
      "execution_count": 76,
      "outputs": []
    }
  ]
}